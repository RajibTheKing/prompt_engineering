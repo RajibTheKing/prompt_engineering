{
 "cells": [
  {
   "cell_type": "code",
   "execution_count": null,
   "id": "269649ca",
   "metadata": {},
   "outputs": [
    {
     "name": "stdout",
     "output_type": "stream",
     "text": [
      "Prompt: \n",
      "    Write a four line birthday poem for my friend Tommy.\n",
      "    The poem should be inspired by the first letter of my friend's name.\n",
      "Response: **T**errific Tommy, time to take a bow,  \n",
      "**T**hrough your twinkle, the world spins somehow.  \n",
      "**T**oday we toast triumphs, both near and far—  \n",
      "**T**hrough timeless joy, you’re our brightest star!  \n",
      "\n",
      "*(Inspired by \"T\"—twinkle, triumphs, toast, timeless.)*\n",
      "\n"
     ]
    }
   ],
   "source": [
    "from utility import print_llm_response, get_llm_response\n",
    "name = \"Tommy\"\n",
    "prompt = f\"\"\"\n",
    "    Write a four line birthday poem for my friend {name}.\n",
    "    The poem should be inspired by the first letter of my friend's name.\"\"\"\n",
    "print_llm_response(prompt)\n",
    "\n",
    "response = get_llm_response(prompt)\n",
    "print(f\"Response:\\n{response}\\n\")"
   ]
  },
  {
   "cell_type": "code",
   "execution_count": null,
   "id": "f433f693",
   "metadata": {},
   "outputs": [],
   "source": []
  }
 ],
 "metadata": {
  "kernelspec": {
   "display_name": "rc_venv",
   "language": "python",
   "name": "python3"
  },
  "language_info": {
   "codemirror_mode": {
    "name": "ipython",
    "version": 3
   },
   "file_extension": ".py",
   "mimetype": "text/x-python",
   "name": "python",
   "nbconvert_exporter": "python",
   "pygments_lexer": "ipython3",
   "version": "3.12.3"
  }
 },
 "nbformat": 4,
 "nbformat_minor": 5
}
