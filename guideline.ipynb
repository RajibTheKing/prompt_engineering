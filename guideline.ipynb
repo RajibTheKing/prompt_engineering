{
 "cells": [
  {
   "cell_type": "code",
   "execution_count": null,
   "id": "21a462bb",
   "metadata": {},
   "outputs": [],
   "source": [
    "!pip install openai\n",
    "!pip install python-dotenv"
   ]
  },
  {
   "cell_type": "code",
   "execution_count": 5,
   "id": "f60855e3",
   "metadata": {},
   "outputs": [],
   "source": [
    "import openai\n",
    "import os\n",
    "from dotenv import load_dotenv\n",
    "\n",
    "load_dotenv()  # loads variables from .env\n",
    "openai.api_key = os.environ[\"OPEN_ROUTER_API_KEY\"]\n",
    "\n",
    "# client = openai.OpenAI(api_key=openai.api_key)\n",
    "client = openai.OpenAI(base_url=\"https://openrouter.ai/api/v1\", api_key=openai.api_key)\n",
    "# model_name = \"gpt-3.5-turbo\"  # or any other model you want to use\n",
    "model_name = \"deepseek/deepseek-r1:free\"\n",
    "\n",
    "# Define your app metadata (required by OpenRouter)\n",
    "app_headers = {\n",
    "    \"HTTP-Referer\": \"https://rtsys-lab.de\",  # Your app's website (optional)\n",
    "    \"X-Title\": \"RTSYS Lab - Prompt Engineering\",                 # Your app's name (required)\n",
    "    \"X-Description\": \"A personal LLM playground\",      # Short description (optional)\n",
    "    \"X-Author\": \"Rajib Chandra Das\",                    # Your name or org (optional)\n",
    "}\n"
   ]
  },
  {
   "cell_type": "code",
   "execution_count": 6,
   "id": "6928dd55",
   "metadata": {},
   "outputs": [
    {
     "name": "stdout",
     "output_type": "stream",
     "text": [
      "**Lisa geht in den Park.** Sie sieht einen **kleinen Hund**. Der Hund ist **allein**. Lisa findet ein **Halsband** mit **Namen** und **Telefonnummer**. Sie **ruf t an**. Der **Besitzer** kommt. Der Hund ist **glücklich**. Lisa lächelt.  \n",
      "\n",
      "---  \n",
      "\n",
      "**Lisa goes to the park.** She sees a **small dog**. The dog is **alone**. Lisa finds a **collar** with a **name** and **phone number**. She **calls**. The **owner** arrives. The dog is **happy**. Lisa smiles.\n"
     ]
    }
   ],
   "source": [
    "def get_completion(prompt, model=model_name):\n",
    "    messages = [{\"role\": \"user\", \"content\": prompt}]\n",
    "    response = client.chat.completions.create(\n",
    "        model=model,\n",
    "        messages=messages,\n",
    "        temperature=0, # this is the degree of randomness of the model's output\n",
    "        extra_headers=app_headers  # <-- Use extra_headers instead of headers\n",
    "    )\n",
    "    return response.choices[0].message.content\n",
    "\n",
    "prompt = \"\"\"Generate a nice short story in German that follows following properties\n",
    "            Difficulty level : A2\n",
    "            Number of words : around 50\n",
    "            Emphasise on : Important words\n",
    "\n",
    "            Then also generate the translation of the story in English.\n",
    "            Output the story in German first, then the translation in English.\n",
    "            Try to use markdown to highlight the important words in the story.\n",
    "            Do not use any code blocks.\n",
    "            \"\"\"\n",
    "response = get_completion(prompt)\n",
    "print(response)\n",
    "\n",
    "# now"
   ]
  },
  {
   "cell_type": "code",
   "execution_count": 7,
   "id": "f231c9f0",
   "metadata": {},
   "outputs": [
    {
     "data": {
      "text/markdown": [
       "**Lisa geht in den Park.** Sie sieht einen **kleinen Hund**. Der Hund ist **allein**. Lisa findet ein **Halsband** mit **Namen** und **Telefonnummer**. Sie **ruf t an**. Der **Besitzer** kommt. Der Hund ist **glücklich**. Lisa lächelt.  \n",
       "\n",
       "---  \n",
       "\n",
       "**Lisa goes to the park.** She sees a **small dog**. The dog is **alone**. Lisa finds a **collar** with a **name** and **phone number**. She **calls**. The **owner** arrives. The dog is **happy**. Lisa smiles."
      ],
      "text/plain": [
       "<IPython.core.display.Markdown object>"
      ]
     },
     "metadata": {},
     "output_type": "display_data"
    }
   ],
   "source": [
    "from IPython.display import Markdown, display\n",
    "def print_markdown(text):\n",
    "    display(Markdown(text))\n",
    "print_markdown(response)"
   ]
  },
  {
   "cell_type": "code",
   "execution_count": null,
   "id": "2788d3fa",
   "metadata": {},
   "outputs": [],
   "source": []
  }
 ],
 "metadata": {
  "kernelspec": {
   "display_name": "rc_venv",
   "language": "python",
   "name": "python3"
  },
  "language_info": {
   "codemirror_mode": {
    "name": "ipython",
    "version": 3
   },
   "file_extension": ".py",
   "mimetype": "text/x-python",
   "name": "python",
   "nbconvert_exporter": "python",
   "pygments_lexer": "ipython3",
   "version": "3.12.3"
  }
 },
 "nbformat": 4,
 "nbformat_minor": 5
}
