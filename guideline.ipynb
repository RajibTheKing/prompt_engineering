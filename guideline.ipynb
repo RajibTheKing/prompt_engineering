{
 "cells": [
  {
   "cell_type": "code",
   "execution_count": null,
   "id": "21a462bb",
   "metadata": {},
   "outputs": [],
   "source": [
    "!pip install openai\n",
    "!pip install python-dotenv"
   ]
  },
  {
   "cell_type": "code",
   "execution_count": 1,
   "id": "f60855e3",
   "metadata": {},
   "outputs": [
    {
     "name": "stdout",
     "output_type": "stream",
     "text": [
      "OpenAI API key loaded successfully and the key is :  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\n"
     ]
    }
   ],
   "source": [
    "import openai\n",
    "import os\n",
    "from dotenv import load_dotenv\n",
    "\n",
    "load_dotenv()  # loads variables from .env\n",
    "openai.api_key = os.environ[\"OPEN_ROUTER_API_KEY\"]\n",
    "print(\"OpenAI API key loaded successfully and the key is : \", openai.api_key)\n",
    "\n",
    "# client = openai.OpenAI(api_key=openai.api_key)\n",
    "client = openai.OpenAI(base_url=\"https://openrouter.ai/api/v1\", api_key=openai.api_key)\n",
    "# model_name = \"gpt-3.5-turbo\"  # or any other model you want to use\n",
    "model_name = \"deepseek/deepseek-r1:free\"\n"
   ]
  },
  {
   "cell_type": "code",
   "execution_count": 4,
   "id": "6928dd55",
   "metadata": {},
   "outputs": [
    {
     "name": "stdout",
     "output_type": "stream",
     "text": [
      "I don’t have real-time data access, so I can’t provide current weather information. For today’s forecast, I recommend checking a trusted weather website, app, or your local weather service. If you have general questions about weather phenomena or need tips, feel free to ask! 🌤️\n"
     ]
    }
   ],
   "source": [
    "def get_completion(prompt, model=model_name):\n",
    "    messages = [{\"role\": \"user\", \"content\": prompt}]\n",
    "    response = client.chat.completions.create(\n",
    "        model=model,\n",
    "        messages=messages,\n",
    "        temperature=0, # this is the degree of randomness of the model's output\n",
    "    )\n",
    "    return response.choices[0].message.content\n",
    "\n",
    "print(get_completion(\"What about the weather today?\"))"
   ]
  },
  {
   "cell_type": "code",
   "execution_count": null,
   "id": "f231c9f0",
   "metadata": {},
   "outputs": [],
   "source": []
  }
 ],
 "metadata": {
  "kernelspec": {
   "display_name": "rc_venv",
   "language": "python",
   "name": "python3"
  },
  "language_info": {
   "codemirror_mode": {
    "name": "ipython",
    "version": 3
   },
   "file_extension": ".py",
   "mimetype": "text/x-python",
   "name": "python",
   "nbconvert_exporter": "python",
   "pygments_lexer": "ipython3",
   "version": "3.12.3"
  }
 },
 "nbformat": 4,
 "nbformat_minor": 5
}
