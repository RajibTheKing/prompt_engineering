{
 "cells": [
  {
   "cell_type": "code",
   "execution_count": null,
   "id": "21a462bb",
   "metadata": {},
   "outputs": [],
   "source": [
    "!pip install openai\n",
    "!pip install python-dotenv"
   ]
  },
  {
   "cell_type": "code",
   "execution_count": 1,
   "id": "f60855e3",
   "metadata": {},
   "outputs": [],
   "source": [
    "import openai\n",
    "import os\n",
    "from dotenv import load_dotenv\n",
    "\n",
    "load_dotenv()  # loads variables from .env\n",
    "openai.api_key = os.environ[\"OPEN_ROUTER_API_KEY\"]\n",
    "\n",
    "# client = openai.OpenAI(api_key=openai.api_key)\n",
    "client = openai.OpenAI(base_url=\"https://openrouter.ai/api/v1\", api_key=openai.api_key)\n",
    "# model_name = \"gpt-3.5-turbo\"  # or any other model you want to use\n",
    "model_name = \"deepseek/deepseek-r1:free\"\n"
   ]
  },
  {
   "cell_type": "code",
   "execution_count": 5,
   "id": "6928dd55",
   "metadata": {},
   "outputs": [
    {
     "name": "stdout",
     "output_type": "stream",
     "text": [
      "**Die verschwundene Kugel**  \n",
      "An einem **sonnigen Tag** geht *Lena* in den **Park**. Sie hat einen **roten Ball**. Plötzlich rollt der **Ball** unter einen **Busch**. *Lena* sucht und findet ihn nicht. Da kommt ihr **Hund** *Max*! Er springt unter den **Busch** und holt den **Ball**. *Lena* lacht: \"**Danke**, *Max*!\" Beide spielen weiter.  \n",
      "\n",
      "---  \n",
      "\n",
      "**The Disappeared Ball**  \n",
      "On a **sunny day**, *Lena* goes to the **park**. She has a **red ball**. Suddenly, the **ball** rolls under a **bush**. *Lena* searches but can’t find it. Then her **dog** *Max* comes! He jumps under the **bush** and fetches the **ball**. *Lena* laughs: \"**Thank you**, *Max*!\" They keep playing.  \n",
      "\n",
      "(Words in **bold** are key vocabulary; *italicized* names emphasize characters.)\n"
     ]
    }
   ],
   "source": [
    "def get_completion(prompt, model=model_name):\n",
    "    messages = [{\"role\": \"user\", \"content\": prompt}]\n",
    "    response = client.chat.completions.create(\n",
    "        model=model,\n",
    "        messages=messages,\n",
    "        temperature=0, # this is the degree of randomness of the model's output\n",
    "    )\n",
    "    return response.choices[0].message.content\n",
    "\n",
    "prompt = \"\"\"Generate a nice short story in German that follows following properties\n",
    "            Difficulty level : A2\n",
    "            Number of words : around 50\n",
    "            Emphasise on : Important words\n",
    "\n",
    "            Then also generate the translation of the story in English.\n",
    "            Output the story in German first, then the translation in English.\n",
    "            Try to use markdown to highlight the important words in the story.\n",
    "            Do not use any code blocks.\n",
    "            \"\"\"\n",
    "response = get_completion(prompt)\n",
    "print(response)\n",
    "\n",
    "# now"
   ]
  },
  {
   "cell_type": "code",
   "execution_count": 6,
   "id": "f231c9f0",
   "metadata": {},
   "outputs": [
    {
     "data": {
      "text/markdown": [
       "**Die verschwundene Kugel**  \n",
       "An einem **sonnigen Tag** geht *Lena* in den **Park**. Sie hat einen **roten Ball**. Plötzlich rollt der **Ball** unter einen **Busch**. *Lena* sucht und findet ihn nicht. Da kommt ihr **Hund** *Max*! Er springt unter den **Busch** und holt den **Ball**. *Lena* lacht: \"**Danke**, *Max*!\" Beide spielen weiter.  \n",
       "\n",
       "---  \n",
       "\n",
       "**The Disappeared Ball**  \n",
       "On a **sunny day**, *Lena* goes to the **park**. She has a **red ball**. Suddenly, the **ball** rolls under a **bush**. *Lena* searches but can’t find it. Then her **dog** *Max* comes! He jumps under the **bush** and fetches the **ball**. *Lena* laughs: \"**Thank you**, *Max*!\" They keep playing.  \n",
       "\n",
       "(Words in **bold** are key vocabulary; *italicized* names emphasize characters.)"
      ],
      "text/plain": [
       "<IPython.core.display.Markdown object>"
      ]
     },
     "metadata": {},
     "output_type": "display_data"
    }
   ],
   "source": [
    "from IPython.display import Markdown, display\n",
    "def print_markdown(text):\n",
    "    display(Markdown(text))\n",
    "print_markdown(response)"
   ]
  },
  {
   "cell_type": "code",
   "execution_count": null,
   "id": "2788d3fa",
   "metadata": {},
   "outputs": [],
   "source": []
  }
 ],
 "metadata": {
  "kernelspec": {
   "display_name": "rc_venv",
   "language": "python",
   "name": "python3"
  },
  "language_info": {
   "codemirror_mode": {
    "name": "ipython",
    "version": 3
   },
   "file_extension": ".py",
   "mimetype": "text/x-python",
   "name": "python",
   "nbconvert_exporter": "python",
   "pygments_lexer": "ipython3",
   "version": "3.12.3"
  }
 },
 "nbformat": 4,
 "nbformat_minor": 5
}
